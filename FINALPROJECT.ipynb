{
 "cells": [
  {
   "cell_type": "markdown",
   "metadata": {},
   "source": [
    "Authors: Denise Tabilas and Diane Tabilas\n",
    "\n",
    "In this investigation, we will see if there are any correlations between fatal shootings by the police and the identities, locations, and actions of the victims. \n",
    "\n",
    "The type of input data is from a csv file.\n",
    "\n",
    "We chose this topic because we thought it would be interesting to investigate one of the major problems in the United States today."
   ]
  },
  {
   "cell_type": "markdown",
   "metadata": {},
   "source": [
    "Source of data can be found from this link: \n",
    "https://github.com/washingtonpost/data-police-shootings"
   ]
  },
  {
   "cell_type": "markdown",
   "metadata": {},
   "source": [
    "Import"
   ]
  },
  {
   "cell_type": "code",
   "execution_count": 557,
   "metadata": {},
   "outputs": [],
   "source": [
    "import pandas as pd\n",
    "import numpy as np\n",
    "import matplotlib.pyplot as plt\n",
    "%matplotlib inline\n",
    "from collections import defaultdict \n",
    "import collections\n",
    "import re\n",
    "import seaborn as sns\n",
    "from sklearn.model_selection import train_test_split\n",
    "from sklearn import metrics\n",
    "from sklearn.cluster import KMeans"
   ]
  },
  {
   "cell_type": "markdown",
   "metadata": {},
   "source": [
    "Read data into dataframe from fatal-police-shootings-data.csv"
   ]
  },
  {
   "cell_type": "code",
   "execution_count": 558,
   "metadata": {},
   "outputs": [
    {
     "data": {
      "text/html": [
       "<div>\n",
       "<style scoped>\n",
       "    .dataframe tbody tr th:only-of-type {\n",
       "        vertical-align: middle;\n",
       "    }\n",
       "\n",
       "    .dataframe tbody tr th {\n",
       "        vertical-align: top;\n",
       "    }\n",
       "\n",
       "    .dataframe thead th {\n",
       "        text-align: right;\n",
       "    }\n",
       "</style>\n",
       "<table border=\"1\" class=\"dataframe\">\n",
       "  <thead>\n",
       "    <tr style=\"text-align: right;\">\n",
       "      <th></th>\n",
       "      <th>id</th>\n",
       "      <th>name</th>\n",
       "      <th>date</th>\n",
       "      <th>manner_of_death</th>\n",
       "      <th>armed</th>\n",
       "      <th>age</th>\n",
       "      <th>gender</th>\n",
       "      <th>race</th>\n",
       "      <th>city</th>\n",
       "      <th>state</th>\n",
       "      <th>signs_of_mental_illness</th>\n",
       "      <th>threat_level</th>\n",
       "      <th>flee</th>\n",
       "      <th>body_camera</th>\n",
       "      <th>longitude</th>\n",
       "      <th>latitude</th>\n",
       "      <th>is_geocoding_exact</th>\n",
       "    </tr>\n",
       "  </thead>\n",
       "  <tbody>\n",
       "    <tr>\n",
       "      <th>0</th>\n",
       "      <td>3</td>\n",
       "      <td>Tim Elliot</td>\n",
       "      <td>2015-01-02</td>\n",
       "      <td>shot</td>\n",
       "      <td>gun</td>\n",
       "      <td>53.0</td>\n",
       "      <td>M</td>\n",
       "      <td>A</td>\n",
       "      <td>Shelton</td>\n",
       "      <td>WA</td>\n",
       "      <td>True</td>\n",
       "      <td>attack</td>\n",
       "      <td>Not fleeing</td>\n",
       "      <td>False</td>\n",
       "      <td>-123.122</td>\n",
       "      <td>47.247</td>\n",
       "      <td>True</td>\n",
       "    </tr>\n",
       "    <tr>\n",
       "      <th>1</th>\n",
       "      <td>4</td>\n",
       "      <td>Lewis Lee Lembke</td>\n",
       "      <td>2015-01-02</td>\n",
       "      <td>shot</td>\n",
       "      <td>gun</td>\n",
       "      <td>47.0</td>\n",
       "      <td>M</td>\n",
       "      <td>W</td>\n",
       "      <td>Aloha</td>\n",
       "      <td>OR</td>\n",
       "      <td>False</td>\n",
       "      <td>attack</td>\n",
       "      <td>Not fleeing</td>\n",
       "      <td>False</td>\n",
       "      <td>-122.892</td>\n",
       "      <td>45.487</td>\n",
       "      <td>True</td>\n",
       "    </tr>\n",
       "    <tr>\n",
       "      <th>2</th>\n",
       "      <td>5</td>\n",
       "      <td>John Paul Quintero</td>\n",
       "      <td>2015-01-03</td>\n",
       "      <td>shot and Tasered</td>\n",
       "      <td>unarmed</td>\n",
       "      <td>23.0</td>\n",
       "      <td>M</td>\n",
       "      <td>H</td>\n",
       "      <td>Wichita</td>\n",
       "      <td>KS</td>\n",
       "      <td>False</td>\n",
       "      <td>other</td>\n",
       "      <td>Not fleeing</td>\n",
       "      <td>False</td>\n",
       "      <td>-97.281</td>\n",
       "      <td>37.695</td>\n",
       "      <td>True</td>\n",
       "    </tr>\n",
       "    <tr>\n",
       "      <th>3</th>\n",
       "      <td>8</td>\n",
       "      <td>Matthew Hoffman</td>\n",
       "      <td>2015-01-04</td>\n",
       "      <td>shot</td>\n",
       "      <td>toy weapon</td>\n",
       "      <td>32.0</td>\n",
       "      <td>M</td>\n",
       "      <td>W</td>\n",
       "      <td>San Francisco</td>\n",
       "      <td>CA</td>\n",
       "      <td>True</td>\n",
       "      <td>attack</td>\n",
       "      <td>Not fleeing</td>\n",
       "      <td>False</td>\n",
       "      <td>-122.422</td>\n",
       "      <td>37.763</td>\n",
       "      <td>True</td>\n",
       "    </tr>\n",
       "    <tr>\n",
       "      <th>4</th>\n",
       "      <td>9</td>\n",
       "      <td>Michael Rodriguez</td>\n",
       "      <td>2015-01-04</td>\n",
       "      <td>shot</td>\n",
       "      <td>nail gun</td>\n",
       "      <td>39.0</td>\n",
       "      <td>M</td>\n",
       "      <td>H</td>\n",
       "      <td>Evans</td>\n",
       "      <td>CO</td>\n",
       "      <td>False</td>\n",
       "      <td>attack</td>\n",
       "      <td>Not fleeing</td>\n",
       "      <td>False</td>\n",
       "      <td>-104.692</td>\n",
       "      <td>40.384</td>\n",
       "      <td>True</td>\n",
       "    </tr>\n",
       "  </tbody>\n",
       "</table>\n",
       "</div>"
      ],
      "text/plain": [
       "   id                name        date   manner_of_death       armed   age  \\\n",
       "0   3          Tim Elliot  2015-01-02              shot         gun  53.0   \n",
       "1   4    Lewis Lee Lembke  2015-01-02              shot         gun  47.0   \n",
       "2   5  John Paul Quintero  2015-01-03  shot and Tasered     unarmed  23.0   \n",
       "3   8     Matthew Hoffman  2015-01-04              shot  toy weapon  32.0   \n",
       "4   9   Michael Rodriguez  2015-01-04              shot    nail gun  39.0   \n",
       "\n",
       "  gender race           city state  signs_of_mental_illness threat_level  \\\n",
       "0      M    A        Shelton    WA                     True       attack   \n",
       "1      M    W          Aloha    OR                    False       attack   \n",
       "2      M    H        Wichita    KS                    False        other   \n",
       "3      M    W  San Francisco    CA                     True       attack   \n",
       "4      M    H          Evans    CO                    False       attack   \n",
       "\n",
       "          flee  body_camera  longitude  latitude  is_geocoding_exact  \n",
       "0  Not fleeing        False   -123.122    47.247                True  \n",
       "1  Not fleeing        False   -122.892    45.487                True  \n",
       "2  Not fleeing        False    -97.281    37.695                True  \n",
       "3  Not fleeing        False   -122.422    37.763                True  \n",
       "4  Not fleeing        False   -104.692    40.384                True  "
      ]
     },
     "execution_count": 558,
     "metadata": {},
     "output_type": "execute_result"
    }
   ],
   "source": [
    "df = pd.read_csv(\"fatal-police-shootings-data.csv\")\n",
    "df.head()"
   ]
  },
  {
   "cell_type": "markdown",
   "metadata": {},
   "source": [
    "Drop some columns because we are not going to need them for the analysis."
   ]
  },
  {
   "cell_type": "code",
   "execution_count": 559,
   "metadata": {},
   "outputs": [
    {
     "data": {
      "text/html": [
       "<div>\n",
       "<style scoped>\n",
       "    .dataframe tbody tr th:only-of-type {\n",
       "        vertical-align: middle;\n",
       "    }\n",
       "\n",
       "    .dataframe tbody tr th {\n",
       "        vertical-align: top;\n",
       "    }\n",
       "\n",
       "    .dataframe thead th {\n",
       "        text-align: right;\n",
       "    }\n",
       "</style>\n",
       "<table border=\"1\" class=\"dataframe\">\n",
       "  <thead>\n",
       "    <tr style=\"text-align: right;\">\n",
       "      <th></th>\n",
       "      <th>date</th>\n",
       "      <th>armed</th>\n",
       "      <th>age</th>\n",
       "      <th>gender</th>\n",
       "      <th>race</th>\n",
       "      <th>city</th>\n",
       "      <th>state</th>\n",
       "      <th>flee</th>\n",
       "    </tr>\n",
       "  </thead>\n",
       "  <tbody>\n",
       "    <tr>\n",
       "      <th>0</th>\n",
       "      <td>2015-01-02</td>\n",
       "      <td>gun</td>\n",
       "      <td>53.0</td>\n",
       "      <td>M</td>\n",
       "      <td>A</td>\n",
       "      <td>Shelton</td>\n",
       "      <td>WA</td>\n",
       "      <td>Not fleeing</td>\n",
       "    </tr>\n",
       "    <tr>\n",
       "      <th>1</th>\n",
       "      <td>2015-01-02</td>\n",
       "      <td>gun</td>\n",
       "      <td>47.0</td>\n",
       "      <td>M</td>\n",
       "      <td>W</td>\n",
       "      <td>Aloha</td>\n",
       "      <td>OR</td>\n",
       "      <td>Not fleeing</td>\n",
       "    </tr>\n",
       "    <tr>\n",
       "      <th>2</th>\n",
       "      <td>2015-01-03</td>\n",
       "      <td>unarmed</td>\n",
       "      <td>23.0</td>\n",
       "      <td>M</td>\n",
       "      <td>H</td>\n",
       "      <td>Wichita</td>\n",
       "      <td>KS</td>\n",
       "      <td>Not fleeing</td>\n",
       "    </tr>\n",
       "    <tr>\n",
       "      <th>3</th>\n",
       "      <td>2015-01-04</td>\n",
       "      <td>toy weapon</td>\n",
       "      <td>32.0</td>\n",
       "      <td>M</td>\n",
       "      <td>W</td>\n",
       "      <td>San Francisco</td>\n",
       "      <td>CA</td>\n",
       "      <td>Not fleeing</td>\n",
       "    </tr>\n",
       "    <tr>\n",
       "      <th>4</th>\n",
       "      <td>2015-01-04</td>\n",
       "      <td>nail gun</td>\n",
       "      <td>39.0</td>\n",
       "      <td>M</td>\n",
       "      <td>H</td>\n",
       "      <td>Evans</td>\n",
       "      <td>CO</td>\n",
       "      <td>Not fleeing</td>\n",
       "    </tr>\n",
       "  </tbody>\n",
       "</table>\n",
       "</div>"
      ],
      "text/plain": [
       "         date       armed   age gender race           city state         flee\n",
       "0  2015-01-02         gun  53.0      M    A        Shelton    WA  Not fleeing\n",
       "1  2015-01-02         gun  47.0      M    W          Aloha    OR  Not fleeing\n",
       "2  2015-01-03     unarmed  23.0      M    H        Wichita    KS  Not fleeing\n",
       "3  2015-01-04  toy weapon  32.0      M    W  San Francisco    CA  Not fleeing\n",
       "4  2015-01-04    nail gun  39.0      M    H          Evans    CO  Not fleeing"
      ]
     },
     "execution_count": 559,
     "metadata": {},
     "output_type": "execute_result"
    }
   ],
   "source": [
    "colsToDrop = ['id', 'name', 'is_geocoding_exact', 'longitude', 'latitude', 'threat_level', 'manner_of_death', 'signs_of_mental_illness', 'body_camera']\n",
    "df = df.drop(columns=colsToDrop)\n",
    "df.head()"
   ]
  },
  {
   "cell_type": "markdown",
   "metadata": {},
   "source": [
    "Find the top 5 states in data."
   ]
  },
  {
   "cell_type": "code",
   "execution_count": 560,
   "metadata": {},
   "outputs": [
    {
     "name": "stdout",
     "output_type": "stream",
     "text": [
      "1. CA     908\n",
      "2. TX     545\n",
      "3. FL     411\n",
      "4. AZ     290\n",
      "5. CO     216\n"
     ]
    }
   ],
   "source": [
    "stateDict = defaultdict(int)\n",
    "for state in df.state:\n",
    "    stateDict[state] += 1;\n",
    "\n",
    "sortedKeys = sorted(stateDict, key=stateDict.get, reverse=True)\n",
    "for i in range(0,5):\n",
    "    state =sortedKeys[i]\n",
    "    print(str(i+1) + \". \" + state + \"     \" + str(stateDict[state]))"
   ]
  },
  {
   "cell_type": "markdown",
   "metadata": {},
   "source": [
    "Find top 5 cities in data "
   ]
  },
  {
   "cell_type": "code",
   "execution_count": 561,
   "metadata": {},
   "outputs": [
    {
     "name": "stdout",
     "output_type": "stream",
     "text": [
      "1. Los Angeles, CA   93\n",
      "2. Phoenix, AZ   89\n",
      "3. Houston, TX   65\n",
      "4. Las Vegas, NV   52\n",
      "5. San Antonio, TX   52\n"
     ]
    }
   ],
   "source": [
    "cityDict = defaultdict(int)\n",
    "\n",
    "for i in range(0, len(df)):\n",
    "    cityStr = str(df.loc[i, 'city']) + \", \" + str(df.loc[i, 'state'])\n",
    "    cityDict[cityStr] += 1\n",
    "\n",
    "sortedCities = sorted(cityDict, key=cityDict.get, reverse=True)\n",
    "for i in range(0, 5):\n",
    "    city = sortedCities[i]\n",
    "    print(str(i+1) + \". \" + city + \"   \" + str(cityDict[city]))"
   ]
  },
  {
   "cell_type": "markdown",
   "metadata": {},
   "source": [
    "Compare the ages of victims."
   ]
  },
  {
   "cell_type": "code",
   "execution_count": 562,
   "metadata": {},
   "outputs": [
    {
     "data": {
      "text/plain": [
       "<BarContainer object of 78 artists>"
      ]
     },
     "execution_count": 562,
     "metadata": {},
     "output_type": "execute_result"
    },
    {
     "data": {
      "image/png": "[encoded data removed]",
      "text/plain": [
       "<Figure size 432x288 with 1 Axes>"
      ]
     },
     "metadata": {
      "needs_background": "light"
     },
     "output_type": "display_data"
    }
   ],
   "source": [
    "ageDF = pd.DataFrame(df.age)\n",
    "ageDF = ageDF.dropna()\n",
    "ageList = list(set(ageDF.age))\n",
    "countList = []\n",
    "for a in ageList:\n",
    "    c = int(ageDF[ageDF.age == a].count())\n",
    "    countList.append(c)\n",
    "plt.xticks(np.arange(1, 80, step=10), (ageList[0], ageList[9], ageList[19], ageList[29], ageList[39], ageList[49], ageList[59], ageList[69]))\n",
    "plt.xlabel(\"Age\")\n",
    "plt.ylabel(\"Number of Victims\")\n",
    "plt.bar(np.arange(len(ageList)), countList, align=\"center\")"
   ]
  },
  {
   "cell_type": "markdown",
   "metadata": {},
   "source": [
    "Compare race"
   ]
  },
  {
   "cell_type": "code",
   "execution_count": 563,
   "metadata": {},
   "outputs": [
    {
     "data": {
      "text/plain": [
       "<AxesSubplot:ylabel='race'>"
      ]
     },
     "execution_count": 563,
     "metadata": {},
     "output_type": "execute_result"
    },
    {
     "data": {
      "image/png": "[encoded data removed]",
      "text/plain": [
       "<Figure size 1080x1080 with 1 Axes>"
      ]
     },
     "metadata": {},
     "output_type": "display_data"
    }
   ],
   "source": [
    "white = len(df[df.race=='W'])\n",
    "black = len(df[df.race=='B'])\n",
    "asian = len(df[df.race=='A'])\n",
    "native = len(df[df.race=='N'])\n",
    "hispanic = len(df[df.race=='H'])\n",
    "other = len(df[df.race=='O'])\n",
    "unknown = len(df[df.race=='None'])\n",
    "\n",
    "r = {'race': [white,black,asian,native,hispanic,other,unknown]}\n",
    "race = pd.DataFrame(data=r, index=['White, non-Hispanic', 'Black, non-Hispanic','Asian','Native American','Hispanic', 'Other','Unknown'])\n",
    "race.plot.pie(y='race', figsize=(15, 15))\n"
   ]
  },
  {
   "cell_type": "markdown",
   "metadata": {},
   "source": [
    "Compare armed vs. unarmed victims"
   ]
  },
  {
   "cell_type": "code",
   "execution_count": 564,
   "metadata": {},
   "outputs": [],
   "source": [
    "armDF = pd.DataFrame(df.armed)\n",
    "armDF = armDF.dropna()\n",
    "armDict = defaultdict(int)\n",
    "for a in armDF.armed:\n",
    "    armDict[a] += 1"
   ]
  },
  {
   "cell_type": "markdown",
   "metadata": {},
   "source": [
    "Top 'Weapons'"
   ]
  },
  {
   "cell_type": "code",
   "execution_count": 565,
   "metadata": {},
   "outputs": [
    {
     "name": "stdout",
     "output_type": "stream",
     "text": [
      "1. gun, 3515 accounts\n",
      "2. knife, 899 accounts\n",
      "3. unarmed, 399 accounts\n",
      "4. toy weapon, 206 accounts\n",
      "5. vehicle, 190 accounts\n",
      "6. machete, 49 accounts\n",
      "7. Taser, 28 accounts\n",
      "8. ax, 24 accounts\n",
      "9. sword, 23 accounts\n",
      "10. baseball bat, 20 accounts\n"
     ]
    }
   ],
   "source": [
    "sortedArm = sorted(armDict, key=armDict.get, reverse=True)\n",
    "sortedArm.remove('undetermined')\n",
    "sortedArm.remove('unknown weapon')\n",
    "for i in range(0, 10):\n",
    "    print(str(i+1) + \". \" + sortedArm[i] + \", \" + str(armDict[sortedArm[i]]) + \" accounts\")"
   ]
  },
  {
   "cell_type": "markdown",
   "metadata": {},
   "source": [
    "Bar Chart to see visual representation of the top weapons"
   ]
  },
  {
   "cell_type": "code",
   "execution_count": 566,
   "metadata": {},
   "outputs": [
    {
     "data": {
      "text/plain": [
       "<BarContainer object of 10 artists>"
      ]
     },
     "execution_count": 566,
     "metadata": {},
     "output_type": "execute_result"
    },
    {
     "data": {
      "image/png": "[encoded data removed]",
      "text/plain": [
       "<Figure size 432x288 with 1 Axes>"
      ]
     },
     "metadata": {
      "needs_background": "light"
     },
     "output_type": "display_data"
    }
   ],
   "source": [
    "armXVals = []\n",
    "armYVals = []\n",
    "for i in range(0, 10):\n",
    "    armXVals.append(sortedArm[i])\n",
    "    armYVals.append(armDict[sortedArm[i]])\n",
    "plt.xticks(np.arange(len(armXVals)), armXVals, rotation=45)\n",
    "plt.xlabel('Weapon')\n",
    "plt.ylabel('Number of Accounts')\n",
    "plt.bar(np.arange(len(armXVals)), armYVals, align=\"center\")"
   ]
  },
  {
   "cell_type": "markdown",
   "metadata": {},
   "source": [
    "Compare gender "
   ]
  },
  {
   "cell_type": "code",
   "execution_count": 567,
   "metadata": {},
   "outputs": [
    {
     "name": "stdout",
     "output_type": "stream",
     "text": [
      "Male: 5866\n",
      "Female: 272\n",
      "Percentage of Male: 95.56858911697621\n"
     ]
    },
    {
     "data": {
      "text/plain": [
       "<BarContainer object of 2 artists>"
      ]
     },
     "execution_count": 567,
     "metadata": {},
     "output_type": "execute_result"
    },
    {
     "data": {
      "image/png": "[encoded data removed]",
      "text/plain": [
       "<Figure size 432x288 with 1 Axes>"
      ]
     },
     "metadata": {
      "needs_background": "light"
     },
     "output_type": "display_data"
    }
   ],
   "source": [
    "numMale = len(df[df.gender=='M'])\n",
    "numFemale = len(df[df.gender=='F'])\n",
    "print(\"Male: \" + str(numMale))\n",
    "print(\"Female: \" + str(numFemale))\n",
    "print(\"Percentage of Male: \" + str(numMale/(numFemale + numMale)*100))\n",
    "plt.xticks(np.arange(2), ['Male', 'Female'])\n",
    "plt.xlabel(\"Gender\")\n",
    "plt.ylabel(\"Number of Victims\")\n",
    "plt.bar(np.arange(2), [numMale, numFemale], align=\"center\")\n"
   ]
  },
  {
   "cell_type": "markdown",
   "metadata": {},
   "source": [
    "Flee or not flee"
   ]
  },
  {
   "cell_type": "code",
   "execution_count": 568,
   "metadata": {},
   "outputs": [
    {
     "data": {
      "text/plain": [
       "<BarContainer object of 3 artists>"
      ]
     },
     "execution_count": 568,
     "metadata": {},
     "output_type": "execute_result"
    },
    {
     "data": {
      "image/png": "[encoded data removed]",
      "text/plain": [
       "<Figure size 432x288 with 1 Axes>"
      ]
     },
     "metadata": {
      "needs_background": "light"
     },
     "output_type": "display_data"
    }
   ],
   "source": [
    "#flee\n",
    "foot = len(df[df.flee=='Foot'])\n",
    "car = len(df[df.flee=='Car'])\n",
    "notflee = len(df[df.flee=='Not fleeing'])\n",
    "f = {'flee': [foot,car,notflee]}\n",
    "flee = pd.DataFrame(data=f,index=['foot','car','not fleeing'])\n",
    "plt.xticks(np.arange(3), ['foot', 'car', 'not fleeing'])\n",
    "plt.xlabel(\"Flee?\")\n",
    "plt.ylabel(\"Number of Victims\")\n",
    "plt.bar(np.arange(3), [foot,car,notflee], align=\"center\")"
   ]
  },
  {
   "cell_type": "markdown",
   "metadata": {},
   "source": [
    "XY Plot for the date vs. amount of deaths (cumulative)"
   ]
  },
  {
   "cell_type": "code",
   "execution_count": 569,
   "metadata": {},
   "outputs": [
    {
     "data": {
      "text/plain": [
       "[<matplotlib.lines.Line2D at 0x22bd920e310>]"
      ]
     },
     "execution_count": 569,
     "metadata": {},
     "output_type": "execute_result"
    },
    {
     "data": {
      "image/png": "[encoded data removed]",
      "text/plain": [
       "<Figure size 432x288 with 1 Axes>"
      ]
     },
     "metadata": {
      "needs_background": "light"
     },
     "output_type": "display_data"
    }
   ],
   "source": [
    "dateList = list(set(df.date))\n",
    "deathsList = []\n",
    "count = 0 #cumulative count of all deaths\n",
    "for d in dateList:\n",
    "    deathsList.append(len(df[df.date == d]) + count)\n",
    "    count += len(df[df.date == d])\n",
    "    \n",
    "#create xtick list \n",
    "xTickList = []\n",
    "numOfTicks = 10\n",
    "step = int(len(dateList)/numOfTicks)\n",
    "for i in range(0, len(dateList), step):\n",
    "    xTickList.append(str(dateList[i]))\n",
    "    \n",
    "plt.xticks(np.arange(1, len(dateList), step), xTickList, rotation=45)    \n",
    "plt.xlabel(\"Date\")\n",
    "plt.ylabel(\"Number of deaths\")\n",
    "plt.plot(dateList, deathsList)"
   ]
  },
  {
   "cell_type": "markdown",
   "metadata": {},
   "source": [
    "Taking last 100 values from the data set"
   ]
  },
  {
   "cell_type": "code",
   "execution_count": 570,
   "metadata": {},
   "outputs": [
    {
     "data": {
      "text/plain": [
       "[<matplotlib.lines.Line2D at 0x22bd92a9520>]"
      ]
     },
     "execution_count": 570,
     "metadata": {},
     "output_type": "execute_result"
    },
    {
     "data": {
      "image/png": "[encoded data removed]",
      "text/plain": [
       "<Figure size 432x288 with 1 Axes>"
      ]
     },
     "metadata": {
      "needs_background": "light"
     },
     "output_type": "display_data"
    }
   ],
   "source": [
    "xVals = dateList[-100:]\n",
    "yVals = deathsList[-100:]\n",
    "\n",
    "#create xtick list \n",
    "xTickList = []\n",
    "numOfTicks = 10\n",
    "step = int(len(xVals)/numOfTicks)\n",
    "for i in range(0, len(xVals), step):\n",
    "    xTickList.append(str(xVals[i]))\n",
    "\n",
    "plt.xticks(np.arange(1, len(xVals), step), xTickList, rotation=45)\n",
    "plt.xlabel(\"Date\")\n",
    "plt.ylabel(\"Number of deaths\")\n",
    "plt.plot(xVals, yVals)"
   ]
  },
  {
   "cell_type": "markdown",
   "metadata": {},
   "source": [
    "Find correlation between the date and amount of deaths.\n",
    "\n",
    "\n",
    "Convert date column to year"
   ]
  },
  {
   "cell_type": "code",
   "execution_count": 571,
   "metadata": {},
   "outputs": [],
   "source": [
    "dateList = list(set(df.date))\n",
    "dateDict = defaultdict(int)\n",
    "for d in dateList: \n",
    "    splitd = re.split('-', d)\n",
    "    newdate = int(splitd[0])\n",
    "    dateDict[d] = newdate\n",
    "df.replace(dateDict, inplace=True)"
   ]
  },
  {
   "cell_type": "markdown",
   "metadata": {},
   "source": [
    "Create list for number of deaths"
   ]
  },
  {
   "cell_type": "code",
   "execution_count": 572,
   "metadata": {},
   "outputs": [],
   "source": [
    "dateList = list(set(df.date))\n",
    "dateList.sort()\n",
    "deathsList = []\n",
    "for d in dateList:\n",
    "    deathsList.append(len(df[df.date == d]))"
   ]
  },
  {
   "cell_type": "markdown",
   "metadata": {},
   "source": [
    "Create scatter plot"
   ]
  },
  {
   "cell_type": "code",
   "execution_count": 573,
   "metadata": {},
   "outputs": [
    {
     "data": {
      "text/plain": [
       "<matplotlib.collections.PathCollection at 0x22bd9300b50>"
      ]
     },
     "execution_count": 573,
     "metadata": {},
     "output_type": "execute_result"
    },
    {
     "data": {
      "image/png": "[encoded data removed]",
      "text/plain": [
       "<Figure size 432x288 with 1 Axes>"
      ]
     },
     "metadata": {
      "needs_background": "light"
     },
     "output_type": "display_data"
    }
   ],
   "source": [
    "dateList.pop(-1)\n",
    "deathsList.pop(-1)\n",
    "\n",
    "plt.xlabel(\"Year\")\n",
    "plt.ylabel(\"Number of Deaths\")\n",
    "plt.scatter(dateList, deathsList)"
   ]
  },
  {
   "cell_type": "markdown",
   "metadata": {},
   "source": [
    "Linear Regression"
   ]
  },
  {
   "cell_type": "code",
   "execution_count": 574,
   "metadata": {},
   "outputs": [],
   "source": [
    "import sklearn.linear_model as lm\n",
    "regr = lm.LinearRegression()"
   ]
  },
  {
   "cell_type": "markdown",
   "metadata": {},
   "source": [
    "Create X and y dataset"
   ]
  },
  {
   "cell_type": "code",
   "execution_count": 575,
   "metadata": {},
   "outputs": [],
   "source": [
    "X = pd.DataFrame({'date':dateList})\n",
    "y = deathsList"
   ]
  },
  {
   "cell_type": "markdown",
   "metadata": {},
   "source": [
    "Train estimator"
   ]
  },
  {
   "cell_type": "code",
   "execution_count": 576,
   "metadata": {},
   "outputs": [],
   "source": [
    "regr = regr.fit(X, y)"
   ]
  },
  {
   "cell_type": "markdown",
   "metadata": {},
   "source": [
    "Plot linear regression"
   ]
  },
  {
   "cell_type": "code",
   "execution_count": 577,
   "metadata": {},
   "outputs": [
    {
     "data": {
      "text/plain": [
       "[<matplotlib.lines.Line2D at 0x22bd9350160>]"
      ]
     },
     "execution_count": 577,
     "metadata": {},
     "output_type": "execute_result"
    },
    {
     "data": {
      "image/png": "[encoded data removed]",
      "text/plain": [
       "<Figure size 432x288 with 1 Axes>"
      ]
     },
     "metadata": {
      "needs_background": "light"
     },
     "output_type": "display_data"
    }
   ],
   "source": [
    "plt.scatter(dateList, deathsList)\n",
    "plt.xlabel(\"Year\")\n",
    "plt.ylabel(\"Number of Deaths\")\n",
    "plt.plot(X, regr.coef_ * X + regr.intercept_, color='green')"
   ]
  },
  {
   "cell_type": "markdown",
   "metadata": {},
   "source": [
    "Show how well estimator works"
   ]
  },
  {
   "cell_type": "code",
   "execution_count": 578,
   "metadata": {},
   "outputs": [],
   "source": [
    "X_train, X_test, y_train, y_test = train_test_split(X, y, test_size=0.25)"
   ]
  },
  {
   "cell_type": "code",
   "execution_count": 579,
   "metadata": {},
   "outputs": [
    {
     "name": "stdout",
     "output_type": "stream",
     "text": [
      "Root Mean Squared Error: 34.27693339937769\n",
      "Mean Deaths per Year: 991.6666666666666\n",
      "Percent error: 3.4564974856515316\n",
      "R^2 value: -0.25887866602410625\n"
     ]
    }
   ],
   "source": [
    "regr = lm.LinearRegression()\n",
    "regr = regr.fit(X_train, y_train)\n",
    "y_pred = regr.predict(X_test)\n",
    "RMSE = np.sqrt(metrics.mean_squared_error(y_test, y_pred))\n",
    "print('Root Mean Squared Error:',RMSE)\n",
    "deaths_mean = np.mean(deathsList)\n",
    "print('Mean Deaths per Year:', deaths_mean)\n",
    "print('Percent error:', (RMSE/deaths_mean)*100)\n",
    "print('R^2 value:', regr.score(X, y))"
   ]
  },
  {
   "cell_type": "markdown",
   "metadata": {},
   "source": [
    "Finding the correlation of unarmed deaths' ages vs. race, state, and flee\n",
    "\n",
    "\n",
    "From the original data frame, we create a new data frame removing the date, city, and gender columns. "
   ]
  },
  {
   "cell_type": "code",
   "execution_count": 580,
   "metadata": {},
   "outputs": [
    {
     "data": {
      "text/html": [
       "<div>\n",
       "<style scoped>\n",
       "    .dataframe tbody tr th:only-of-type {\n",
       "        vertical-align: middle;\n",
       "    }\n",
       "\n",
       "    .dataframe tbody tr th {\n",
       "        vertical-align: top;\n",
       "    }\n",
       "\n",
       "    .dataframe thead th {\n",
       "        text-align: right;\n",
       "    }\n",
       "</style>\n",
       "<table border=\"1\" class=\"dataframe\">\n",
       "  <thead>\n",
       "    <tr style=\"text-align: right;\">\n",
       "      <th></th>\n",
       "      <th>armed</th>\n",
       "      <th>age</th>\n",
       "      <th>race</th>\n",
       "      <th>state</th>\n",
       "      <th>flee</th>\n",
       "    </tr>\n",
       "  </thead>\n",
       "  <tbody>\n",
       "    <tr>\n",
       "      <th>0</th>\n",
       "      <td>gun</td>\n",
       "      <td>53.0</td>\n",
       "      <td>A</td>\n",
       "      <td>WA</td>\n",
       "      <td>Not fleeing</td>\n",
       "    </tr>\n",
       "    <tr>\n",
       "      <th>1</th>\n",
       "      <td>gun</td>\n",
       "      <td>47.0</td>\n",
       "      <td>W</td>\n",
       "      <td>OR</td>\n",
       "      <td>Not fleeing</td>\n",
       "    </tr>\n",
       "    <tr>\n",
       "      <th>2</th>\n",
       "      <td>unarmed</td>\n",
       "      <td>23.0</td>\n",
       "      <td>H</td>\n",
       "      <td>KS</td>\n",
       "      <td>Not fleeing</td>\n",
       "    </tr>\n",
       "    <tr>\n",
       "      <th>3</th>\n",
       "      <td>toy weapon</td>\n",
       "      <td>32.0</td>\n",
       "      <td>W</td>\n",
       "      <td>CA</td>\n",
       "      <td>Not fleeing</td>\n",
       "    </tr>\n",
       "    <tr>\n",
       "      <th>4</th>\n",
       "      <td>nail gun</td>\n",
       "      <td>39.0</td>\n",
       "      <td>H</td>\n",
       "      <td>CO</td>\n",
       "      <td>Not fleeing</td>\n",
       "    </tr>\n",
       "  </tbody>\n",
       "</table>\n",
       "</div>"
      ],
      "text/plain": [
       "        armed   age race state         flee\n",
       "0         gun  53.0    A    WA  Not fleeing\n",
       "1         gun  47.0    W    OR  Not fleeing\n",
       "2     unarmed  23.0    H    KS  Not fleeing\n",
       "3  toy weapon  32.0    W    CA  Not fleeing\n",
       "4    nail gun  39.0    H    CO  Not fleeing"
      ]
     },
     "execution_count": 580,
     "metadata": {},
     "output_type": "execute_result"
    }
   ],
   "source": [
    "df2 = df.drop(columns=['date','city','gender'])\n",
    "df2.head()"
   ]
  },
  {
   "cell_type": "markdown",
   "metadata": {},
   "source": [
    "Filter by unarmed"
   ]
  },
  {
   "cell_type": "code",
   "execution_count": 581,
   "metadata": {},
   "outputs": [
    {
     "data": {
      "text/html": [
       "<div>\n",
       "<style scoped>\n",
       "    .dataframe tbody tr th:only-of-type {\n",
       "        vertical-align: middle;\n",
       "    }\n",
       "\n",
       "    .dataframe tbody tr th {\n",
       "        vertical-align: top;\n",
       "    }\n",
       "\n",
       "    .dataframe thead th {\n",
       "        text-align: right;\n",
       "    }\n",
       "</style>\n",
       "<table border=\"1\" class=\"dataframe\">\n",
       "  <thead>\n",
       "    <tr style=\"text-align: right;\">\n",
       "      <th></th>\n",
       "      <th>armed</th>\n",
       "      <th>age</th>\n",
       "      <th>race</th>\n",
       "      <th>state</th>\n",
       "      <th>flee</th>\n",
       "    </tr>\n",
       "  </thead>\n",
       "  <tbody>\n",
       "    <tr>\n",
       "      <th>2</th>\n",
       "      <td>unarmed</td>\n",
       "      <td>23.0</td>\n",
       "      <td>H</td>\n",
       "      <td>KS</td>\n",
       "      <td>Not fleeing</td>\n",
       "    </tr>\n",
       "    <tr>\n",
       "      <th>8</th>\n",
       "      <td>unarmed</td>\n",
       "      <td>34.0</td>\n",
       "      <td>W</td>\n",
       "      <td>IA</td>\n",
       "      <td>Not fleeing</td>\n",
       "    </tr>\n",
       "    <tr>\n",
       "      <th>17</th>\n",
       "      <td>unarmed</td>\n",
       "      <td>36.0</td>\n",
       "      <td>B</td>\n",
       "      <td>AR</td>\n",
       "      <td>Not fleeing</td>\n",
       "    </tr>\n",
       "    <tr>\n",
       "      <th>62</th>\n",
       "      <td>unarmed</td>\n",
       "      <td>24.0</td>\n",
       "      <td>H</td>\n",
       "      <td>TX</td>\n",
       "      <td>Car</td>\n",
       "    </tr>\n",
       "    <tr>\n",
       "      <th>72</th>\n",
       "      <td>unarmed</td>\n",
       "      <td>42.0</td>\n",
       "      <td>W</td>\n",
       "      <td>OK</td>\n",
       "      <td>Foot</td>\n",
       "    </tr>\n",
       "  </tbody>\n",
       "</table>\n",
       "</div>"
      ],
      "text/plain": [
       "      armed   age race state         flee\n",
       "2   unarmed  23.0    H    KS  Not fleeing\n",
       "8   unarmed  34.0    W    IA  Not fleeing\n",
       "17  unarmed  36.0    B    AR  Not fleeing\n",
       "62  unarmed  24.0    H    TX          Car\n",
       "72  unarmed  42.0    W    OK         Foot"
      ]
     },
     "execution_count": 581,
     "metadata": {},
     "output_type": "execute_result"
    }
   ],
   "source": [
    "df2 = df2[df2.armed=='unarmed']\n",
    "df2.head()"
   ]
  },
  {
   "cell_type": "markdown",
   "metadata": {},
   "source": [
    "Remove armed column"
   ]
  },
  {
   "cell_type": "code",
   "execution_count": 582,
   "metadata": {},
   "outputs": [
    {
     "data": {
      "text/html": [
       "<div>\n",
       "<style scoped>\n",
       "    .dataframe tbody tr th:only-of-type {\n",
       "        vertical-align: middle;\n",
       "    }\n",
       "\n",
       "    .dataframe tbody tr th {\n",
       "        vertical-align: top;\n",
       "    }\n",
       "\n",
       "    .dataframe thead th {\n",
       "        text-align: right;\n",
       "    }\n",
       "</style>\n",
       "<table border=\"1\" class=\"dataframe\">\n",
       "  <thead>\n",
       "    <tr style=\"text-align: right;\">\n",
       "      <th></th>\n",
       "      <th>age</th>\n",
       "      <th>race</th>\n",
       "      <th>state</th>\n",
       "      <th>flee</th>\n",
       "    </tr>\n",
       "  </thead>\n",
       "  <tbody>\n",
       "    <tr>\n",
       "      <th>2</th>\n",
       "      <td>23.0</td>\n",
       "      <td>H</td>\n",
       "      <td>KS</td>\n",
       "      <td>Not fleeing</td>\n",
       "    </tr>\n",
       "    <tr>\n",
       "      <th>8</th>\n",
       "      <td>34.0</td>\n",
       "      <td>W</td>\n",
       "      <td>IA</td>\n",
       "      <td>Not fleeing</td>\n",
       "    </tr>\n",
       "    <tr>\n",
       "      <th>17</th>\n",
       "      <td>36.0</td>\n",
       "      <td>B</td>\n",
       "      <td>AR</td>\n",
       "      <td>Not fleeing</td>\n",
       "    </tr>\n",
       "    <tr>\n",
       "      <th>62</th>\n",
       "      <td>24.0</td>\n",
       "      <td>H</td>\n",
       "      <td>TX</td>\n",
       "      <td>Car</td>\n",
       "    </tr>\n",
       "    <tr>\n",
       "      <th>72</th>\n",
       "      <td>42.0</td>\n",
       "      <td>W</td>\n",
       "      <td>OK</td>\n",
       "      <td>Foot</td>\n",
       "    </tr>\n",
       "  </tbody>\n",
       "</table>\n",
       "</div>"
      ],
      "text/plain": [
       "     age race state         flee\n",
       "2   23.0    H    KS  Not fleeing\n",
       "8   34.0    W    IA  Not fleeing\n",
       "17  36.0    B    AR  Not fleeing\n",
       "62  24.0    H    TX          Car\n",
       "72  42.0    W    OK         Foot"
      ]
     },
     "execution_count": 582,
     "metadata": {},
     "output_type": "execute_result"
    }
   ],
   "source": [
    "df2 = df2.drop(columns=['armed'])\n",
    "df2.head()"
   ]
  },
  {
   "cell_type": "markdown",
   "metadata": {},
   "source": [
    "remove nan data"
   ]
  },
  {
   "cell_type": "code",
   "execution_count": 583,
   "metadata": {},
   "outputs": [
    {
     "data": {
      "text/html": [
       "<div>\n",
       "<style scoped>\n",
       "    .dataframe tbody tr th:only-of-type {\n",
       "        vertical-align: middle;\n",
       "    }\n",
       "\n",
       "    .dataframe tbody tr th {\n",
       "        vertical-align: top;\n",
       "    }\n",
       "\n",
       "    .dataframe thead th {\n",
       "        text-align: right;\n",
       "    }\n",
       "</style>\n",
       "<table border=\"1\" class=\"dataframe\">\n",
       "  <thead>\n",
       "    <tr style=\"text-align: right;\">\n",
       "      <th></th>\n",
       "      <th>age</th>\n",
       "      <th>race</th>\n",
       "      <th>state</th>\n",
       "      <th>flee</th>\n",
       "    </tr>\n",
       "  </thead>\n",
       "  <tbody>\n",
       "    <tr>\n",
       "      <th>2</th>\n",
       "      <td>23</td>\n",
       "      <td>H</td>\n",
       "      <td>KS</td>\n",
       "      <td>Not fleeing</td>\n",
       "    </tr>\n",
       "    <tr>\n",
       "      <th>8</th>\n",
       "      <td>34</td>\n",
       "      <td>W</td>\n",
       "      <td>IA</td>\n",
       "      <td>Not fleeing</td>\n",
       "    </tr>\n",
       "    <tr>\n",
       "      <th>17</th>\n",
       "      <td>36</td>\n",
       "      <td>B</td>\n",
       "      <td>AR</td>\n",
       "      <td>Not fleeing</td>\n",
       "    </tr>\n",
       "    <tr>\n",
       "      <th>62</th>\n",
       "      <td>24</td>\n",
       "      <td>H</td>\n",
       "      <td>TX</td>\n",
       "      <td>Car</td>\n",
       "    </tr>\n",
       "    <tr>\n",
       "      <th>72</th>\n",
       "      <td>42</td>\n",
       "      <td>W</td>\n",
       "      <td>OK</td>\n",
       "      <td>Foot</td>\n",
       "    </tr>\n",
       "  </tbody>\n",
       "</table>\n",
       "</div>"
      ],
      "text/plain": [
       "    age race state         flee\n",
       "2    23    H    KS  Not fleeing\n",
       "8    34    W    IA  Not fleeing\n",
       "17   36    B    AR  Not fleeing\n",
       "62   24    H    TX          Car\n",
       "72   42    W    OK         Foot"
      ]
     },
     "execution_count": 583,
     "metadata": {},
     "output_type": "execute_result"
    }
   ],
   "source": [
    "df2 = df2.dropna()\n",
    "df2.age = df2.age.astype(int)   \n",
    "df2.head()"
   ]
  },
  {
   "cell_type": "markdown",
   "metadata": {},
   "source": [
    "change race, state, and flee to integers"
   ]
  },
  {
   "cell_type": "code",
   "execution_count": 584,
   "metadata": {},
   "outputs": [
    {
     "name": "stdout",
     "output_type": "stream",
     "text": [
      "defaultdict(<class 'int'>, {'N': 0, 'B': 1, 'A': 2, 'O': 3, 'H': 4, 'W': 5, 'WV': 0, 'AZ': 1, 'MN': 2, 'NE': 3, 'NY': 4, 'ID': 5, 'AL': 6, 'MI': 7, 'TX': 8, 'SD': 9, 'CO': 10, 'MD': 11, 'FL': 12, 'IL': 13, 'NM': 14, 'UT': 15, 'ND': 16, 'CA': 17, 'DC': 18, 'LA': 19, 'HI': 20, 'VA': 21, 'AR': 22, 'CT': 23, 'MS': 24, 'IN': 25, 'OR': 26, 'GA': 27, 'WY': 28, 'MA': 29, 'VT': 30, 'NC': 31, 'TN': 32, 'NV': 33, 'OH': 34, 'KS': 35, 'SC': 36, 'WA': 37, 'IA': 38, 'MO': 39, 'OK': 40, 'KY': 41, 'NJ': 42, 'AK': 43, 'WI': 44, 'PA': 45, 'Other': 0, 'Foot': 1, 'Not fleeing': 2, 'Car': 3})\n"
     ]
    },
    {
     "data": {
      "text/html": [
       "<div>\n",
       "<style scoped>\n",
       "    .dataframe tbody tr th:only-of-type {\n",
       "        vertical-align: middle;\n",
       "    }\n",
       "\n",
       "    .dataframe tbody tr th {\n",
       "        vertical-align: top;\n",
       "    }\n",
       "\n",
       "    .dataframe thead th {\n",
       "        text-align: right;\n",
       "    }\n",
       "</style>\n",
       "<table border=\"1\" class=\"dataframe\">\n",
       "  <thead>\n",
       "    <tr style=\"text-align: right;\">\n",
       "      <th></th>\n",
       "      <th>age</th>\n",
       "      <th>race</th>\n",
       "      <th>state</th>\n",
       "      <th>flee</th>\n",
       "    </tr>\n",
       "  </thead>\n",
       "  <tbody>\n",
       "    <tr>\n",
       "      <th>2</th>\n",
       "      <td>23</td>\n",
       "      <td>4</td>\n",
       "      <td>35</td>\n",
       "      <td>2</td>\n",
       "    </tr>\n",
       "    <tr>\n",
       "      <th>8</th>\n",
       "      <td>34</td>\n",
       "      <td>5</td>\n",
       "      <td>38</td>\n",
       "      <td>2</td>\n",
       "    </tr>\n",
       "    <tr>\n",
       "      <th>17</th>\n",
       "      <td>36</td>\n",
       "      <td>1</td>\n",
       "      <td>22</td>\n",
       "      <td>2</td>\n",
       "    </tr>\n",
       "    <tr>\n",
       "      <th>62</th>\n",
       "      <td>24</td>\n",
       "      <td>4</td>\n",
       "      <td>8</td>\n",
       "      <td>3</td>\n",
       "    </tr>\n",
       "    <tr>\n",
       "      <th>72</th>\n",
       "      <td>42</td>\n",
       "      <td>5</td>\n",
       "      <td>40</td>\n",
       "      <td>1</td>\n",
       "    </tr>\n",
       "  </tbody>\n",
       "</table>\n",
       "</div>"
      ],
      "text/plain": [
       "    age  race  state  flee\n",
       "2    23     4     35     2\n",
       "8    34     5     38     2\n",
       "17   36     1     22     2\n",
       "62   24     4      8     3\n",
       "72   42     5     40     1"
      ]
     },
     "execution_count": 584,
     "metadata": {},
     "output_type": "execute_result"
    }
   ],
   "source": [
    "col = ['race','state','flee']\n",
    "colDict = defaultdict(int)\n",
    "for x in col:\n",
    "    valset = set(df2[x])\n",
    "    i=0\n",
    "    for v in valset:\n",
    "        colDict[v]=i\n",
    "        i+=1\n",
    "    df2.replace(colDict,inplace=True)\n",
    "print(colDict)\n",
    "df2.head()"
   ]
  },
  {
   "cell_type": "markdown",
   "metadata": {},
   "source": [
    "Show statistics for the data frame"
   ]
  },
  {
   "cell_type": "code",
   "execution_count": 585,
   "metadata": {},
   "outputs": [
    {
     "data": {
      "text/html": [
       "<div>\n",
       "<style scoped>\n",
       "    .dataframe tbody tr th:only-of-type {\n",
       "        vertical-align: middle;\n",
       "    }\n",
       "\n",
       "    .dataframe tbody tr th {\n",
       "        vertical-align: top;\n",
       "    }\n",
       "\n",
       "    .dataframe thead th {\n",
       "        text-align: right;\n",
       "    }\n",
       "</style>\n",
       "<table border=\"1\" class=\"dataframe\">\n",
       "  <thead>\n",
       "    <tr style=\"text-align: right;\">\n",
       "      <th></th>\n",
       "      <th>age</th>\n",
       "      <th>race</th>\n",
       "      <th>state</th>\n",
       "      <th>flee</th>\n",
       "    </tr>\n",
       "  </thead>\n",
       "  <tbody>\n",
       "    <tr>\n",
       "      <th>count</th>\n",
       "      <td>375.000000</td>\n",
       "      <td>375.000000</td>\n",
       "      <td>375.000000</td>\n",
       "      <td>375.000000</td>\n",
       "    </tr>\n",
       "    <tr>\n",
       "      <th>mean</th>\n",
       "      <td>32.320000</td>\n",
       "      <td>3.290667</td>\n",
       "      <td>19.922667</td>\n",
       "      <td>1.909333</td>\n",
       "    </tr>\n",
       "    <tr>\n",
       "      <th>std</th>\n",
       "      <td>10.947322</td>\n",
       "      <td>1.820352</td>\n",
       "      <td>12.646020</td>\n",
       "      <td>0.725615</td>\n",
       "    </tr>\n",
       "    <tr>\n",
       "      <th>min</th>\n",
       "      <td>6.000000</td>\n",
       "      <td>0.000000</td>\n",
       "      <td>0.000000</td>\n",
       "      <td>0.000000</td>\n",
       "    </tr>\n",
       "    <tr>\n",
       "      <th>25%</th>\n",
       "      <td>24.000000</td>\n",
       "      <td>1.000000</td>\n",
       "      <td>10.000000</td>\n",
       "      <td>1.000000</td>\n",
       "    </tr>\n",
       "    <tr>\n",
       "      <th>50%</th>\n",
       "      <td>30.000000</td>\n",
       "      <td>4.000000</td>\n",
       "      <td>17.000000</td>\n",
       "      <td>2.000000</td>\n",
       "    </tr>\n",
       "    <tr>\n",
       "      <th>75%</th>\n",
       "      <td>38.000000</td>\n",
       "      <td>5.000000</td>\n",
       "      <td>31.500000</td>\n",
       "      <td>2.000000</td>\n",
       "    </tr>\n",
       "    <tr>\n",
       "      <th>max</th>\n",
       "      <td>84.000000</td>\n",
       "      <td>5.000000</td>\n",
       "      <td>45.000000</td>\n",
       "      <td>3.000000</td>\n",
       "    </tr>\n",
       "  </tbody>\n",
       "</table>\n",
       "</div>"
      ],
      "text/plain": [
       "              age        race       state        flee\n",
       "count  375.000000  375.000000  375.000000  375.000000\n",
       "mean    32.320000    3.290667   19.922667    1.909333\n",
       "std     10.947322    1.820352   12.646020    0.725615\n",
       "min      6.000000    0.000000    0.000000    0.000000\n",
       "25%     24.000000    1.000000   10.000000    1.000000\n",
       "50%     30.000000    4.000000   17.000000    2.000000\n",
       "75%     38.000000    5.000000   31.500000    2.000000\n",
       "max     84.000000    5.000000   45.000000    3.000000"
      ]
     },
     "execution_count": 585,
     "metadata": {},
     "output_type": "execute_result"
    }
   ],
   "source": [
    "df2.describe()"
   ]
  },
  {
   "cell_type": "markdown",
   "metadata": {},
   "source": [
    "compare age vs race,state,and flee using unsupervised machine learning\n",
    "Calculate optimal k value using elbow curve\n"
   ]
  },
  {
   "cell_type": "code",
   "execution_count": 586,
   "metadata": {},
   "outputs": [
    {
     "name": "stdout",
     "output_type": "stream",
     "text": [
      "['age' 'race']\n"
     ]
    },
    {
     "data": {
      "image/png": "[encoded data removed]",
      "text/plain": [
       "<Figure size 360x360 with 1 Axes>"
      ]
     },
     "metadata": {
      "needs_background": "light"
     },
     "output_type": "display_data"
    }
   ],
   "source": [
    "#age vs race\n",
    "\n",
    "X = df2.drop(columns = ['state','flee'])\n",
    "print(X.columns.values)\n",
    "wcss = []\n",
    "for i in range(1,11):\n",
    "    kmeans = KMeans(n_clusters=i, init='k-means++')\n",
    "    kmeans.fit(X)\n",
    "    wcss.append(kmeans.inertia_)\n",
    "fig = plt.figure(figsize=(5,5))\n",
    "plt.title(\"Elbow plot\")\n",
    "plt.plot(np.arange(1,11),wcss)\n",
    "plt.title('Elbow Curve')\n",
    "plt.style.use('seaborn-whitegrid')\n",
    "plt.show() \n"
   ]
  },
  {
   "cell_type": "markdown",
   "metadata": {},
   "source": [
    "from the plot, k=3 because of the bend \n",
    "Now we create the model then train and test it\n"
   ]
  },
  {
   "cell_type": "code",
   "execution_count": 587,
   "metadata": {},
   "outputs": [],
   "source": [
    "#k=3\n",
    "kmeans = KMeans(n_clusters=3, init='k-means++')\n",
    "kmeans.fit(X)\n",
    "y_kmeans = kmeans.predict(X)\n"
   ]
  },
  {
   "cell_type": "markdown",
   "metadata": {},
   "source": [
    "using the k-means output, we plot the age vs race"
   ]
  },
  {
   "cell_type": "code",
   "execution_count": 588,
   "metadata": {},
   "outputs": [
    {
     "data": {
      "image/png": "[encoded data removed]",
      "text/plain": [
       "<Figure size 720x360 with 1 Axes>"
      ]
     },
     "metadata": {},
     "output_type": "display_data"
    }
   ],
   "source": [
    "fig = plt.figure(figsize=(10,5))\n",
    "plt.scatter(X[y_kmeans==0].age, X[y_kmeans==0].race, label='Cluster 1')\n",
    "plt.scatter(X[y_kmeans==1].age, X[y_kmeans==1].race, label='Cluster 2')\n",
    "plt.scatter(X[y_kmeans==2].age, X[y_kmeans==2].race, label='Cluster 3')\n",
    "\n",
    "plt.scatter(kmeans.cluster_centers_[:,0],kmeans.cluster_centers_[:,1],c='black',label='Centroids')\n",
    "plt.xlabel('age')\n",
    "plt.ylabel('race')\n",
    "plt.legend()\n",
    "plt.show()\n"
   ]
  },
  {
   "cell_type": "markdown",
   "metadata": {},
   "source": [
    "next we check the connection of age and state following the same process"
   ]
  },
  {
   "cell_type": "code",
   "execution_count": 589,
   "metadata": {},
   "outputs": [
    {
     "name": "stdout",
     "output_type": "stream",
     "text": [
      "['age' 'state']\n"
     ]
    },
    {
     "data": {
      "image/png": "[encoded data removed]",
      "text/plain": [
       "<Figure size 360x360 with 1 Axes>"
      ]
     },
     "metadata": {},
     "output_type": "display_data"
    }
   ],
   "source": [
    "#age vs state\n",
    "\n",
    "X = df2.drop(columns = ['race','flee'])\n",
    "print(X.columns.values)\n",
    "wcss = []\n",
    "for i in range(1,11):\n",
    "    kmeans = KMeans(n_clusters=i, init='k-means++')\n",
    "    kmeans.fit(X)\n",
    "    wcss.append(kmeans.inertia_)\n",
    "fig = plt.figure(figsize=(5,5))\n",
    "plt.title(\"Elbow plot\")\n",
    "plt.plot(np.arange(1,11),wcss)\n",
    "plt.title('Elbow Curve')\n",
    "plt.style.use('seaborn-whitegrid')\n",
    "plt.show() \n"
   ]
  },
  {
   "cell_type": "code",
   "execution_count": 590,
   "metadata": {},
   "outputs": [
    {
     "data": {
      "image/png": "[encoded data removed]",
      "text/plain": [
       "<Figure size 720x360 with 1 Axes>"
      ]
     },
     "metadata": {},
     "output_type": "display_data"
    }
   ],
   "source": [
    "#k=3\n",
    "kmeans = KMeans(n_clusters=3, init='k-means++')\n",
    "kmeans.fit(X)\n",
    "y_kmeans = kmeans.predict(X)\n",
    "\n",
    "fig = plt.figure(figsize=(10,5))\n",
    "plt.scatter(X[y_kmeans==0].age, X[y_kmeans==0].state, label='Cluster 1')\n",
    "plt.scatter(X[y_kmeans==1].age, X[y_kmeans==1].state, label='Cluster 2')\n",
    "plt.scatter(X[y_kmeans==2].age, X[y_kmeans==2].state, label='Cluster 3')\n",
    "\n",
    "plt.scatter(kmeans.cluster_centers_[:,0],kmeans.cluster_centers_[:,1],c='black',label='Centroids')\n",
    "plt.xlabel('age')\n",
    "plt.ylabel('state')\n",
    "plt.legend()\n",
    "plt.show()\n"
   ]
  },
  {
   "cell_type": "markdown",
   "metadata": {},
   "source": [
    "finally we see if there is a correlation between the age and flee"
   ]
  },
  {
   "cell_type": "code",
   "execution_count": 591,
   "metadata": {},
   "outputs": [
    {
     "name": "stdout",
     "output_type": "stream",
     "text": [
      "['age' 'flee']\n"
     ]
    },
    {
     "data": {
      "image/png": "[encoded data removed]",
      "text/plain": [
       "<Figure size 360x360 with 1 Axes>"
      ]
     },
     "metadata": {},
     "output_type": "display_data"
    }
   ],
   "source": [
    "#age vs flee\n",
    "\n",
    "X = df2.drop(columns = ['state','race'])\n",
    "print(X.columns.values)\n",
    "wcss = []\n",
    "for i in range(1,11):\n",
    "    kmeans = KMeans(n_clusters=i, init='k-means++')\n",
    "    kmeans.fit(X)\n",
    "    wcss.append(kmeans.inertia_)\n",
    "fig = plt.figure(figsize=(5,5))\n",
    "plt.title(\"Elbow plot\")\n",
    "plt.plot(np.arange(1,11),wcss)\n",
    "plt.title('Elbow Curve')\n",
    "plt.style.use('seaborn-whitegrid')\n",
    "plt.show() \n"
   ]
  },
  {
   "cell_type": "code",
   "execution_count": 592,
   "metadata": {},
   "outputs": [
    {
     "data": {
      "image/png": "[encoded data removed]",
      "text/plain": [
       "<Figure size 720x360 with 1 Axes>"
      ]
     },
     "metadata": {},
     "output_type": "display_data"
    }
   ],
   "source": [
    "#k=3\n",
    "kmeans = KMeans(n_clusters=3, init='k-means++')\n",
    "kmeans.fit(X)\n",
    "y_kmeans = kmeans.predict(X)\n",
    "\n",
    "fig = plt.figure(figsize=(10,5))\n",
    "plt.scatter(X[y_kmeans==0].age, X[y_kmeans==0].flee, label='Cluster 1')\n",
    "plt.scatter(X[y_kmeans==1].age, X[y_kmeans==1].flee, label='Cluster 2')\n",
    "plt.scatter(X[y_kmeans==2].age, X[y_kmeans==2].flee, label='Cluster 3')\n",
    "\n",
    "plt.scatter(kmeans.cluster_centers_[:,0],kmeans.cluster_centers_[:,1],c='black',label='Centroids')\n",
    "plt.xlabel('age')\n",
    "plt.ylabel('flee')\n",
    "plt.legend()\n",
    "plt.show()\n"
   ]
  },
  {
   "cell_type": "markdown",
   "metadata": {},
   "source": [
    "Conclusion\n",
    "\n",
    "We see that the top states in which fatal police shootings are more prevalent in the states of California, Texas, Florida, Arizona, and Colorado, with some of the top cities in those states as well. \n",
    "According to the data, there is a peak in the chart when victims are in the age range of early 20s to mid 30s. \n",
    "Looking at the data on the armed column, a big portion of the victims are armed with a gun, and there are 399 entries where there are unarmed victims. \n",
    "We found that 95.5% of the victims were male. \n",
    "We also found that most victims were not fleeing before they were killed. \n",
    "We calculated the amount of cumulative deaths from the start date of the dataset, and from the XY plot, it looks like the numbers are steadily growing. \n",
    "Then, we calculated the number of deaths per year from the start of the dataset and we see that the numbers are slightly increasing by the year with an exception of 2016. The average deaths per year we calculated to be 991.6. We tried to use a linear regression for the scatter plot of year vs. amount of deaths, however we found that there may not be enough data to make a prediction. The root mean squared error is 27.7 and the R Squared value is 0.1.\n",
    "\n",
    "From the age vs race plot, we can see that the race is mainly 0, 2, 4 with the centeroids closer to the 2. \n",
    "0=hispanic, 1=other, 2=black,3=native american,4=white, 5=asian\n",
    "The age range is mainly between the late teens to the fifties.\n",
    "\n",
    "'CT': 1, 'IN': 2, 'SD': 3, 'IL': 4, 'FL': 5, 'NE': 6, 'KY': 7, 'WY': 8, 'TX': 9, 'NJ': 10, 'HI': 11, 'NV': 12, 'AR': 13, 'MS': 14, 'SC': 15, 'WA': 16, 'NM': 17, 'MN': 18, 'GA': 19, 'PA': 20, 'MA': 21, 'ND': 22, 'NC': 23, 'CO': 24, 'AZ': 25, 'AL': 26, 'VT': 27, 'VA': 28, 'MO': 29, 'NY': 30, 'AK': 31, 'OH': 32, 'CA': 33, 'MI': 34, 'LA': 35, 'ID': 36, 'IA': 37, 'OK': 38, 'DC': 39, 'TN': 40, 'UT': 41, 'WV': 42, 'MD': 43, 'OR': 44, 'KS': 45\n",
    "From the age vs state plot, we estimate that the clusteroids are around states: 9-10, 24-26, 32-34. Earlier we found our top five states to be California, Texas, Florida, Arizona, and Colorado. According to our dictionary, these states are within the estimates.\n",
    "CA=33, TX=9, AZ=25, CO=24\n",
    "Only Florida was not in the guesses FL=5 \n",
    "\n",
    "0=other,1=car,2=foot,3=not fleeing\n",
    "From the age vs flee plot,  there is an upwards trend. Most people fled by foot or weren’t fleeing. As age increases, more people are likely to not flee. We can also see that the ends of the age range are not fleeing. Something interesting to see is that there was someone under ten that fled by car. At first, we thought a baby was driving away, but after thinking a bit more, that incident may have had multiple fatalities or others that we injured. \n",
    "\n",
    "If we were to do more analysis, it would be interesting to be able to see if the data was grouped by the specific incident in case there were multiple deaths to see a connection.\n"
   ]
  }
 ],
 "metadata": {
  "kernelspec": {
   "display_name": "Python 3",
   "language": "python",
   "name": "python3"
  },
  "language_info": {
   "codemirror_mode": {
    "name": "ipython",
    "version": 3
   },
   "file_extension": ".py",
   "mimetype": "text/x-python",
   "name": "python",
   "nbconvert_exporter": "python",
   "pygments_lexer": "ipython3",
   "version": "3.8.5"
  }
 },
 "nbformat": 4,
 "nbformat_minor": 4
}
